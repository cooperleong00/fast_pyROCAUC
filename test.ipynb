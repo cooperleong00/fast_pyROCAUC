{
 "metadata": {
  "language_info": {
   "codemirror_mode": {
    "name": "ipython",
    "version": 3
   },
   "file_extension": ".py",
   "mimetype": "text/x-python",
   "name": "python",
   "nbconvert_exporter": "python",
   "pygments_lexer": "ipython3",
   "version": "3.7.6"
  },
  "orig_nbformat": 4,
  "kernelspec": {
   "name": "python3",
   "display_name": "Python 3.7.6 64-bit"
  },
  "interpreter": {
   "hash": "d03ebbb62be973f2074ccecab83dc7f58d4bb577db75f7f95d2b22857a271bbe"
  }
 },
 "nbformat": 4,
 "nbformat_minor": 2,
 "cells": [
  {
   "cell_type": "code",
   "execution_count": 4,
   "metadata": {},
   "outputs": [],
   "source": [
    "import numpy as np\n",
    "from numba import njit\n",
    "from scipy.stats import rankdata\n",
    "from roc_auc import roc_auc_score as fast_roc_auc_score\n",
    "from sklearn.metrics import roc_auc_score as skl_roc_auc_score\n",
    "\n",
    "\n",
    "@njit\n",
    "def _auc(y_true, pred_ranks):\n",
    "    \"\"\"numba jit ROC AUC function\n",
    "\n",
    "    Args:\n",
    "        y_true (np.array): 真实标签, shape=(N, )\n",
    "        pred_ranks (np.array): 预测值的排名, shape=(N, )\n",
    "\n",
    "    Returns:\n",
    "        float: roc auc value\n",
    "    \"\"\"\n",
    "    n_pos = np.sum(y_true)\n",
    "    n_neg = len(y_true) - n_pos\n",
    "    return (np.sum(pred_ranks[y_true == 1]) - n_pos*(n_pos+1)/2) / (n_pos*n_neg)\n",
    "\n",
    "\n",
    "def numba_roc_auc_score(y_true, y_pred):\n",
    "    \"\"\"ROC AUC function warper\n",
    "    首先计算出prediction的rank，因为numba不能jit求rank\n",
    "    Args:\n",
    "        y_true (np.array): 真实标签, shape=(N, )\n",
    "        y_pred (np.array): 预测值, shape=(N, )\n",
    "\n",
    "    Returns:\n",
    "        float: roc auc value\n",
    "    \"\"\"\n",
    "    pred_ranks = rankdata(y_pred)\n",
    "    return _auc(y_true, pred_ranks)"
   ]
  },
  {
   "cell_type": "code",
   "execution_count": 2,
   "metadata": {},
   "outputs": [],
   "source": [
    "num_data = 100000\n",
    "labels = np.random.randint(0, 2, (num_data, )).astype(np.float64)\n",
    "preds = np.random.rand(num_data)"
   ]
  },
  {
   "cell_type": "code",
   "execution_count": 14,
   "metadata": {},
   "outputs": [
    {
     "output_type": "stream",
     "name": "stdout",
     "text": [
      "31 ms ± 337 µs per loop (mean ± std. dev. of 7 runs, 10 loops each)\n"
     ]
    },
    {
     "output_type": "execute_result",
     "data": {
      "text/plain": [
       "0.4989452229489488"
      ]
     },
     "metadata": {},
     "execution_count": 14
    }
   ],
   "source": [
    "%timeit skl_roc_auc_score(labels, preds)\n",
    "skl_roc_auc_score(labels, preds)"
   ]
  },
  {
   "cell_type": "code",
   "execution_count": 15,
   "metadata": {},
   "outputs": [
    {
     "output_type": "stream",
     "name": "stdout",
     "text": [
      "12.7 ms ± 185 µs per loop (mean ± std. dev. of 7 runs, 100 loops each)\n"
     ]
    },
    {
     "output_type": "execute_result",
     "data": {
      "text/plain": [
       "0.4989452229489488"
      ]
     },
     "metadata": {},
     "execution_count": 15
    }
   ],
   "source": [
    "%timeit numba_roc_auc_score(labels, preds)\n",
    "numba_roc_auc_score(labels, preds)"
   ]
  },
  {
   "cell_type": "code",
   "execution_count": 13,
   "metadata": {},
   "outputs": [
    {
     "output_type": "stream",
     "name": "stdout",
     "text": [
      "4.76 ms ± 55.2 µs per loop (mean ± std. dev. of 7 runs, 100 loops each)\n"
     ]
    },
    {
     "output_type": "execute_result",
     "data": {
      "text/plain": [
       "0.4989452229489488"
      ]
     },
     "metadata": {},
     "execution_count": 13
    }
   ],
   "source": [
    "%timeit fast_roc_auc_score(labels, preds)\n",
    "fast_roc_auc_score(labels, preds)"
   ]
  }
 ]
}